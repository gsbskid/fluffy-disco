{
 "cells": [
  {
   "cell_type": "code",
   "execution_count": 1,
   "metadata": {},
   "outputs": [],
   "source": [
    "from unstructured.partition.csv import partition_csv"
   ]
  },
  {
   "cell_type": "code",
   "execution_count": 2,
   "metadata": {},
   "outputs": [],
   "source": [
    "elements = partition_csv(filename=\"/workspaces/codespaces-blank/DataBase/Docs/Sample.csv\")"
   ]
  },
  {
   "cell_type": "code",
   "execution_count": 10,
   "metadata": {},
   "outputs": [
    {
     "name": "stdout",
     "output_type": "stream",
     "text": [
      "\n",
      "\n",
      "\n",
      "Year\n",
      "Industry_aggregation_NZSIOC\n",
      "Industry_code_NZSIOC\n",
      "Industry_name_NZSIOC\n",
      "Units\n",
      "Variable_code\n",
      "Variable_name\n",
      "Variable_category\n",
      "Value\n",
      "Industry_code_ANZSIC06\n",
      "\n",
      "\n",
      "2021\n",
      "Level 1\n",
      "99999\n",
      "All industries\n",
      "Dollars (millions)\n",
      "H01\n",
      "Total income\n",
      "Financial performance\n",
      "757,504\n",
      "ANZSIC06 divisions A-S (excluding classes K6330, L6711, O7552, O760, O771, O772, S9540, S9601, S9602, and S9603)\n",
      "\n",
      "\n",
      "2021\n",
      "Level 1\n",
      "99999\n",
      "All industries\n",
      "Dollars (millions)\n",
      "H04\n",
      "Sales, government funding, grants and subsidies\n",
      "Financial performance\n",
      "674,890\n",
      "ANZSIC06 divisions A-S (excluding classes K6330, L6711, O7552, O760, O771, O772, S9540, S9601, S9602, and S9603)\n",
      "\n",
      "\n",
      "2021\n",
      "Level 1\n",
      "99999\n",
      "All industries\n",
      "Dollars (millions)\n",
      "H05\n",
      "Interest, dividends and donations\n",
      "Financial performance\n",
      "49,593\n",
      "ANZSIC06 divisions A-S (excluding classes K6330, L6711, O7552, O760, O771, O772, S9540, S9601, S9602, and S9603)\n",
      "\n",
      "\n",
      "2021\n",
      "Level 1\n",
      "99999\n",
      "All industries\n",
      "Dollars (millions)\n",
      "H07\n",
      "Non-operating income\n",
      "Financial performance\n",
      "33,020\n",
      "ANZSIC06 divisions A-S (excludin\n"
     ]
    }
   ],
   "source": [
    "print(elements[0].text[0 : 1000])"
   ]
  },
  {
   "cell_type": "code",
   "execution_count": 9,
   "metadata": {},
   "outputs": [],
   "source": [
    "elements[0].embeddings"
   ]
  },
  {
   "cell_type": "code",
   "execution_count": null,
   "metadata": {},
   "outputs": [],
   "source": []
  }
 ],
 "metadata": {
  "kernelspec": {
   "display_name": "Python 3",
   "language": "python",
   "name": "python3"
  },
  "language_info": {
   "codemirror_mode": {
    "name": "ipython",
    "version": 3
   },
   "file_extension": ".py",
   "mimetype": "text/x-python",
   "name": "python",
   "nbconvert_exporter": "python",
   "pygments_lexer": "ipython3",
   "version": "3.10.13"
  }
 },
 "nbformat": 4,
 "nbformat_minor": 2
}
